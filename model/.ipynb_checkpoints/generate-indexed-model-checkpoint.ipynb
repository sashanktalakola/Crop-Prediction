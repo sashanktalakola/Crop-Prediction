{
 "cells": [
  {
   "cell_type": "code",
   "execution_count": 16,
   "id": "f978d385-ee75-4fbd-8c2f-e46498b9ed14",
   "metadata": {},
   "outputs": [],
   "source": [
    "import pandas as pd\n",
    "import os\n",
    "import joblib\n",
    "import numpy as np\n",
    "from itertools import combinations\n",
    "from sklearn.preprocessing import StandardScaler, OrdinalEncoder\n",
    "from sklearn.pipeline import Pipeline\n",
    "from sklearn.naive_bayes import GaussianNB"
   ]
  },
  {
   "cell_type": "code",
   "execution_count": 4,
   "id": "a919691a-3e6e-4c42-8593-2f0425cf3f3a",
   "metadata": {},
   "outputs": [],
   "source": [
    "options = [\"Nitrogen\", \"Potassium\", \"Phosphorous\", \"Temperature\", \"Humidity\", \"pH\", \"Rainfall\"]\n",
    "\n",
    "all_combinations = []\n",
    "\n",
    "for i in range(1, len(options)+1):\n",
    "    for combination in combinations(options, i):\n",
    "        all_combinations.append(combination)"
   ]
  },
  {
   "cell_type": "code",
   "execution_count": 6,
   "id": "c4ea2f8c-db78-489f-90be-4770ab9ccffa",
   "metadata": {},
   "outputs": [],
   "source": [
    "indices = []\n",
    "\n",
    "for item in all_combinations:\n",
    "    str_item = ''\n",
    "    for option in options:\n",
    "        if option in item: str_item += '1'\n",
    "        else: str_item += '0'\n",
    "    indices.append(str_item)"
   ]
  },
  {
   "cell_type": "code",
   "execution_count": 14,
   "id": "4b99329d-5b2f-40c1-8e57-62a466e1fd26",
   "metadata": {},
   "outputs": [],
   "source": [
    "df = pd.read_csv(\"data.csv\")\n",
    "\n",
    "columns = [\"N\", \"K\", \"P\", \"temperature\", \"humidity\", \"ph\", \"rainfall\", \"label\"]\n",
    "df = df[columns]\n",
    "\n",
    "df = df.sample(frac=1).reset_index(drop=True)"
   ]
  },
  {
   "cell_type": "code",
   "execution_count": 21,
   "id": "b28cc27d-daee-45a7-970d-294054b8353d",
   "metadata": {},
   "outputs": [],
   "source": [
    "def preprocessData(temp_df):\n",
    "    \n",
    "    X = temp_df.drop(\"label\", axis=1)\n",
    "    y = temp_df.label\n",
    "    \n",
    "    ordinal_enc = OrdinalEncoder()\n",
    "    y_temp = ordinal_enc.fit_transform(y.values.reshape(-1, 1))\n",
    "    \n",
    "    num_attributes = [\"N\", \"P\", \"K\", \"temperature\", \"humidity\", \"ph\", \"rainfall\"]\n",
    "    num_pipeline = Pipeline([\n",
    "                (\"std_scaler\", StandardScaler())\n",
    "                ])\n",
    "    \n",
    "    X = num_pipeline.fit_transform(X)\n",
    "    return X, y_temp"
   ]
  },
  {
   "cell_type": "code",
   "execution_count": 22,
   "id": "b92aa776-de1c-4ae3-bd14-6140ff7169b1",
   "metadata": {},
   "outputs": [],
   "source": [
    "options_to_column = {'Nitrogen': 'N', 'Potassium': 'P', 'Phosphorous': 'K', 'Temperature': 'temperature', 'Humidity': 'humidity',\n",
    "                     'pH': 'ph', 'Rainfall': 'rainfall'}\n",
    "\n",
    "for i, combination in enumerate(all_combinations):\n",
    "    columns = [\"label\"]\n",
    "    \n",
    "    for item in combination:\n",
    "        columns.append(options_to_column[item])\n",
    "    temp_df = df[columns].copy()\n",
    "    X, y_temp = preprocessData(temp_df)\n",
    "    \n",
    "    clf = GaussianNB()\n",
    "    print(X.shape)\n",
    "    clf.fit(X, y_temp.ravel())\n",
    "    \n",
    "    joblib.dump(clf, \"indexed/model-{}.joblib\".format(indices[i]))"
   ]
  }
 ],
 "metadata": {
  "kernelspec": {
   "display_name": "Python 3 (ipykernel)",
   "language": "python",
   "name": "python3"
  },
  "language_info": {
   "codemirror_mode": {
    "name": "ipython",
    "version": 3
   },
   "file_extension": ".py",
   "mimetype": "text/x-python",
   "name": "python",
   "nbconvert_exporter": "python",
   "pygments_lexer": "ipython3",
   "version": "3.9.7"
  }
 },
 "nbformat": 4,
 "nbformat_minor": 5
}
